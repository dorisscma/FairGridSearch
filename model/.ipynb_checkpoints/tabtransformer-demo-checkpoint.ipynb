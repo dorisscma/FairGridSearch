{
 "cells": [
  {
   "cell_type": "code",
   "execution_count": 14,
   "id": "67febe95-dd8e-4564-8a5e-e641bb16906e",
   "metadata": {},
   "outputs": [],
   "source": [
    "import math\n",
    "import numpy as np\n",
    "import pandas as pd\n",
    "import tensorflow as tf\n",
    "from tensorflow import keras\n",
    "from tensorflow.keras import layers\n",
    "import tensorflow_addons as tfa\n",
    "import matplotlib.pyplot as plt\n",
    "from sklearn.model_selection import train_test_split\n",
    "from sklearn.metrics import roc_auc_score, average_precision_score, accuracy_score\n",
    "from tensorflow.keras.callbacks import EarlyStopping\n",
    "\n",
    "from tabtransformertf.models.tabtransformer import TabTransformer\n",
    "from tabtransformertf.utils.preprocessing import df_to_dataset, build_categorical_prep"
   ]
  },
  {
   "cell_type": "markdown",
   "id": "3f89b597-3f3a-4079-bc7c-ad3fbf16dba8",
   "metadata": {},
   "source": [
    "## Download Data"
   ]
  },
  {
   "cell_type": "code",
   "execution_count": 2,
   "id": "e0c2547d-a0b7-478c-ae45-92e99dc6f113",
   "metadata": {},
   "outputs": [
    {
     "name": "stdout",
     "output_type": "stream",
     "text": [
      "Train dataset shape: (32561, 15)\n",
      "Test dataset shape: (16282, 15)\n"
     ]
    }
   ],
   "source": [
    "CSV_HEADER = [\n",
    "    \"age\",\n",
    "    \"workclass\",\n",
    "    \"fnlwgt\",\n",
    "    \"education\",\n",
    "    \"education_num\",\n",
    "    \"marital_status\",\n",
    "    \"occupation\",\n",
    "    \"relationship\",\n",
    "    \"race\",\n",
    "    \"gender\",\n",
    "    \"capital_gain\",\n",
    "    \"capital_loss\",\n",
    "    \"hours_per_week\",\n",
    "    \"native_country\",\n",
    "    \"income_bracket\",\n",
    "]\n",
    "\n",
    "train_data_url = (\n",
    "    \"https://archive.ics.uci.edu/ml/machine-learning-databases/adult/adult.data\"\n",
    ")\n",
    "train_data = pd.read_csv(train_data_url, header=None, names=CSV_HEADER)\n",
    "\n",
    "test_data_url = (\n",
    "    \"https://archive.ics.uci.edu/ml/machine-learning-databases/adult/adult.test\"\n",
    ")\n",
    "test_data = pd.read_csv(test_data_url, header=None, names=CSV_HEADER)\n",
    "\n",
    "print(f\"Train dataset shape: {train_data.shape}\")\n",
    "print(f\"Test dataset shape: {test_data.shape}\")"
   ]
  },
  {
   "cell_type": "code",
   "execution_count": 3,
   "id": "75521624-3f40-4aad-bbd4-cea5c5cb5782",
   "metadata": {},
   "outputs": [
    {
     "data": {
      "text/html": [
       "<div>\n",
       "<style scoped>\n",
       "    .dataframe tbody tr th:only-of-type {\n",
       "        vertical-align: middle;\n",
       "    }\n",
       "\n",
       "    .dataframe tbody tr th {\n",
       "        vertical-align: top;\n",
       "    }\n",
       "\n",
       "    .dataframe thead th {\n",
       "        text-align: right;\n",
       "    }\n",
       "</style>\n",
       "<table border=\"1\" class=\"dataframe\">\n",
       "  <thead>\n",
       "    <tr style=\"text-align: right;\">\n",
       "      <th></th>\n",
       "      <th>age</th>\n",
       "      <th>workclass</th>\n",
       "      <th>fnlwgt</th>\n",
       "      <th>education</th>\n",
       "      <th>education_num</th>\n",
       "      <th>marital_status</th>\n",
       "      <th>occupation</th>\n",
       "      <th>relationship</th>\n",
       "      <th>race</th>\n",
       "      <th>gender</th>\n",
       "      <th>capital_gain</th>\n",
       "      <th>capital_loss</th>\n",
       "      <th>hours_per_week</th>\n",
       "      <th>native_country</th>\n",
       "      <th>income_bracket</th>\n",
       "    </tr>\n",
       "  </thead>\n",
       "  <tbody>\n",
       "    <tr>\n",
       "      <th>0</th>\n",
       "      <td>39</td>\n",
       "      <td>State-gov</td>\n",
       "      <td>77516</td>\n",
       "      <td>Bachelors</td>\n",
       "      <td>13</td>\n",
       "      <td>Never-married</td>\n",
       "      <td>Adm-clerical</td>\n",
       "      <td>Not-in-family</td>\n",
       "      <td>White</td>\n",
       "      <td>Male</td>\n",
       "      <td>2174</td>\n",
       "      <td>0</td>\n",
       "      <td>40</td>\n",
       "      <td>United-States</td>\n",
       "      <td>&lt;=50K</td>\n",
       "    </tr>\n",
       "    <tr>\n",
       "      <th>1</th>\n",
       "      <td>50</td>\n",
       "      <td>Self-emp-not-inc</td>\n",
       "      <td>83311</td>\n",
       "      <td>Bachelors</td>\n",
       "      <td>13</td>\n",
       "      <td>Married-civ-spouse</td>\n",
       "      <td>Exec-managerial</td>\n",
       "      <td>Husband</td>\n",
       "      <td>White</td>\n",
       "      <td>Male</td>\n",
       "      <td>0</td>\n",
       "      <td>0</td>\n",
       "      <td>13</td>\n",
       "      <td>United-States</td>\n",
       "      <td>&lt;=50K</td>\n",
       "    </tr>\n",
       "    <tr>\n",
       "      <th>2</th>\n",
       "      <td>38</td>\n",
       "      <td>Private</td>\n",
       "      <td>215646</td>\n",
       "      <td>HS-grad</td>\n",
       "      <td>9</td>\n",
       "      <td>Divorced</td>\n",
       "      <td>Handlers-cleaners</td>\n",
       "      <td>Not-in-family</td>\n",
       "      <td>White</td>\n",
       "      <td>Male</td>\n",
       "      <td>0</td>\n",
       "      <td>0</td>\n",
       "      <td>40</td>\n",
       "      <td>United-States</td>\n",
       "      <td>&lt;=50K</td>\n",
       "    </tr>\n",
       "    <tr>\n",
       "      <th>3</th>\n",
       "      <td>53</td>\n",
       "      <td>Private</td>\n",
       "      <td>234721</td>\n",
       "      <td>11th</td>\n",
       "      <td>7</td>\n",
       "      <td>Married-civ-spouse</td>\n",
       "      <td>Handlers-cleaners</td>\n",
       "      <td>Husband</td>\n",
       "      <td>Black</td>\n",
       "      <td>Male</td>\n",
       "      <td>0</td>\n",
       "      <td>0</td>\n",
       "      <td>40</td>\n",
       "      <td>United-States</td>\n",
       "      <td>&lt;=50K</td>\n",
       "    </tr>\n",
       "    <tr>\n",
       "      <th>4</th>\n",
       "      <td>28</td>\n",
       "      <td>Private</td>\n",
       "      <td>338409</td>\n",
       "      <td>Bachelors</td>\n",
       "      <td>13</td>\n",
       "      <td>Married-civ-spouse</td>\n",
       "      <td>Prof-specialty</td>\n",
       "      <td>Wife</td>\n",
       "      <td>Black</td>\n",
       "      <td>Female</td>\n",
       "      <td>0</td>\n",
       "      <td>0</td>\n",
       "      <td>40</td>\n",
       "      <td>Cuba</td>\n",
       "      <td>&lt;=50K</td>\n",
       "    </tr>\n",
       "  </tbody>\n",
       "</table>\n",
       "</div>"
      ],
      "text/plain": [
       "   age          workclass  fnlwgt   education  education_num  \\\n",
       "0   39          State-gov   77516   Bachelors             13   \n",
       "1   50   Self-emp-not-inc   83311   Bachelors             13   \n",
       "2   38            Private  215646     HS-grad              9   \n",
       "3   53            Private  234721        11th              7   \n",
       "4   28            Private  338409   Bachelors             13   \n",
       "\n",
       "        marital_status          occupation    relationship    race   gender  \\\n",
       "0        Never-married        Adm-clerical   Not-in-family   White     Male   \n",
       "1   Married-civ-spouse     Exec-managerial         Husband   White     Male   \n",
       "2             Divorced   Handlers-cleaners   Not-in-family   White     Male   \n",
       "3   Married-civ-spouse   Handlers-cleaners         Husband   Black     Male   \n",
       "4   Married-civ-spouse      Prof-specialty            Wife   Black   Female   \n",
       "\n",
       "   capital_gain  capital_loss  hours_per_week  native_country income_bracket  \n",
       "0          2174             0              40   United-States          <=50K  \n",
       "1             0             0              13   United-States          <=50K  \n",
       "2             0             0              40   United-States          <=50K  \n",
       "3             0             0              40   United-States          <=50K  \n",
       "4             0             0              40            Cuba          <=50K  "
      ]
     },
     "execution_count": 3,
     "metadata": {},
     "output_type": "execute_result"
    }
   ],
   "source": [
    "train_data.head()"
   ]
  },
  {
   "cell_type": "markdown",
   "id": "89bff333-3750-46c9-b687-3f06a8f43845",
   "metadata": {},
   "source": [
    "## Preprocess"
   ]
  },
  {
   "cell_type": "code",
   "execution_count": 4,
   "id": "420201d9-eb7d-4873-bae8-2296fef046c4",
   "metadata": {},
   "outputs": [],
   "source": [
    "# Column information\n",
    "NUMERIC_FEATURES = train_data.select_dtypes(include=np.number).columns\n",
    "CATEGORICAL_FEATURES = train_data.select_dtypes(exclude=np.number).columns[:-1] # exclude label column and DT\n",
    "\n",
    "FEATURES = list(NUMERIC_FEATURES) + list(CATEGORICAL_FEATURES)\n",
    "LABEL = 'income_bracket'"
   ]
  },
  {
   "cell_type": "code",
   "execution_count": 5,
   "id": "aaa2d685-44be-410a-89cf-acdd4a069adb",
   "metadata": {},
   "outputs": [
    {
     "data": {
      "text/plain": [
       "(0.2408095574460244, 0.23621176759611842)"
      ]
     },
     "execution_count": 5,
     "metadata": {},
     "output_type": "execute_result"
    }
   ],
   "source": [
    "# encoding as binary target\n",
    "train_data[LABEL] = train_data[LABEL].apply(lambda x: int(x == ' >50K')) \n",
    "test_data[LABEL] = test_data[LABEL].apply(lambda x: int(x == ' >50K.'))\n",
    "train_data[LABEL].mean(), test_data[LABEL].mean()"
   ]
  },
  {
   "cell_type": "code",
   "execution_count": 6,
   "id": "677298dc-05fe-47ef-b40a-f5b1d62e8187",
   "metadata": {},
   "outputs": [],
   "source": [
    "test_data = test_data.iloc[1:, :] # drop invalid row"
   ]
  },
  {
   "cell_type": "code",
   "execution_count": 7,
   "id": "25986888-5dc1-497c-96c7-bc5e5411c105",
   "metadata": {},
   "outputs": [],
   "source": [
    "# Set data types\n",
    "train_data[CATEGORICAL_FEATURES] = train_data[CATEGORICAL_FEATURES].astype(str)\n",
    "test_data[CATEGORICAL_FEATURES] = test_data[CATEGORICAL_FEATURES].astype(str)\n",
    "\n",
    "train_data[NUMERIC_FEATURES] = train_data[NUMERIC_FEATURES].astype(float)\n",
    "test_data[NUMERIC_FEATURES] = test_data[NUMERIC_FEATURES].astype(float)"
   ]
  },
  {
   "cell_type": "code",
   "execution_count": 8,
   "id": "ad185875-9f9e-43b2-9422-40fe9ff66d7d",
   "metadata": {},
   "outputs": [],
   "source": [
    "# Train/test split\n",
    "X_train, X_val = train_test_split(train_data, test_size=0.2)"
   ]
  },
  {
   "cell_type": "markdown",
   "id": "a07ad92f-f1b9-46ad-9b61-831cbc903e22",
   "metadata": {},
   "source": [
    "## Modelling Prep"
   ]
  },
  {
   "cell_type": "code",
   "execution_count": 9,
   "id": "1592a15a-cf05-4a35-ba46-69e877998d32",
   "metadata": {},
   "outputs": [
    {
     "name": "stderr",
     "output_type": "stream",
     "text": [
      "  0%|                                                                                                                                                    | 0/8 [00:00<?, ?it/s]2022-10-19 17:30:17.543008: I tensorflow/core/platform/cpu_feature_guard.cc:151] This TensorFlow binary is optimized with oneAPI Deep Neural Network Library (oneDNN) to use the following CPU instructions in performance-critical operations:  AVX2 FMA\n",
      "To enable them in other operations, rebuild TensorFlow with the appropriate compiler flags.\n",
      "100%|███████████████████████████████████████████████████████████████████████████████████████████████████████████████████████████████████████████| 8/8 [00:00<00:00, 130.63it/s]\n"
     ]
    }
   ],
   "source": [
    "# Category preprocessing layers\n",
    "category_prep_layers = build_categorical_prep(X_train, CATEGORICAL_FEATURES)"
   ]
  },
  {
   "cell_type": "code",
   "execution_count": 10,
   "id": "9bfdb641-4fec-4f2e-a84f-149a41e2a02b",
   "metadata": {},
   "outputs": [
    {
     "name": "stderr",
     "output_type": "stream",
     "text": [
      "/Users/antonsruberts/personal/TabTransformerTF/tabtransformertf/utils/preprocessing.py:20: FutureWarning: Support for multi-dimensional indexing (e.g. `obj[:, None]`) is deprecated and will be removed in a future version.  Convert to a numpy array before indexing instead.\n",
      "  dataset[key] = value[:, tf.newaxis]\n",
      "/Users/antonsruberts/personal/TabTransformerTF/tabtransformertf/utils/preprocessing.py:26: FutureWarning: Support for multi-dimensional indexing (e.g. `obj[:, None]`) is deprecated and will be removed in a future version.  Convert to a numpy array before indexing instead.\n",
      "  dataset[key] = value[:, tf.newaxis]\n"
     ]
    }
   ],
   "source": [
    "# To TF Dataset\n",
    "train_dataset = df_to_dataset(X_train[FEATURES + [LABEL]], LABEL)\n",
    "val_dataset = df_to_dataset(X_val[FEATURES + [LABEL]], LABEL, shuffle=False)  # No shuffle\n",
    "test_dataset = df_to_dataset(test_data[FEATURES + [LABEL]], shuffle=False) # No target, no shuffle"
   ]
  },
  {
   "cell_type": "markdown",
   "id": "abe05de6-639b-48b6-8387-e44be0d8db0c",
   "metadata": {},
   "source": [
    "## TabTransformer"
   ]
  },
  {
   "cell_type": "code",
   "execution_count": 11,
   "id": "67528470-3cf1-4c6a-8b62-c701f7eb774c",
   "metadata": {},
   "outputs": [],
   "source": [
    "tabtransformer = TabTransformer(\n",
    "    numerical_features = NUMERIC_FEATURES,\n",
    "    categorical_features = CATEGORICAL_FEATURES,\n",
    "    categorical_lookup=category_prep_layers,\n",
    "    embedding_dim=32,\n",
    "    out_dim=1,\n",
    "    out_activation='sigmoid',\n",
    "    depth=4,\n",
    "    heads=8,\n",
    "    attn_dropout=0.2,\n",
    "    ff_dropout=0.2,\n",
    "    mlp_hidden_factors=[2, 4],\n",
    "    use_column_embedding=True,\n",
    ")"
   ]
  },
  {
   "cell_type": "code",
   "execution_count": 12,
   "id": "6e9a2389-2a47-422b-a365-002fb5c6fc7d",
   "metadata": {},
   "outputs": [],
   "source": [
    "LEARNING_RATE = 0.0001\n",
    "WEIGHT_DECAY = 0.0001\n",
    "NUM_EPOCHS = 1000\n",
    "\n",
    "optimizer = tfa.optimizers.AdamW(\n",
    "        learning_rate=LEARNING_RATE, weight_decay=WEIGHT_DECAY\n",
    "    )\n",
    "\n",
    "tabtransformer.compile(\n",
    "    optimizer = optimizer,\n",
    "    loss = tf.keras.losses.BinaryCrossentropy(),\n",
    "    metrics= [tf.keras.metrics.AUC(name=\"PR AUC\", curve='PR')],\n",
    ")"
   ]
  },
  {
   "cell_type": "code",
   "execution_count": 13,
   "id": "4d6dfba2-3d79-45a2-ba1c-b954eda73432",
   "metadata": {
    "collapsed": true,
    "jupyter": {
     "outputs_hidden": true
    },
    "tags": []
   },
   "outputs": [
    {
     "name": "stdout",
     "output_type": "stream",
     "text": [
      "Epoch 1/1000\n",
      "51/51 [==============================] - 14s 178ms/step - loss: 0.7065 - PR AUC: 0.4247 - val_loss: 0.5152 - val_PR AUC: 0.6368\n",
      "Epoch 2/1000\n",
      "51/51 [==============================] - 9s 174ms/step - loss: 0.5650 - PR AUC: 0.5547 - val_loss: 0.4535 - val_PR AUC: 0.6604\n",
      "Epoch 3/1000\n",
      "51/51 [==============================] - 9s 179ms/step - loss: 0.5011 - PR AUC: 0.5835 - val_loss: 0.3856 - val_PR AUC: 0.6733\n",
      "Epoch 4/1000\n",
      "51/51 [==============================] - 10s 188ms/step - loss: 0.4601 - PR AUC: 0.6010 - val_loss: 0.3788 - val_PR AUC: 0.6787\n",
      "Epoch 5/1000\n",
      "51/51 [==============================] - 10s 185ms/step - loss: 0.4330 - PR AUC: 0.6210 - val_loss: 0.3675 - val_PR AUC: 0.6877\n",
      "Epoch 6/1000\n",
      "51/51 [==============================] - 9s 183ms/step - loss: 0.4225 - PR AUC: 0.6281 - val_loss: 0.3606 - val_PR AUC: 0.6971\n",
      "Epoch 7/1000\n",
      "51/51 [==============================] - 9s 181ms/step - loss: 0.4145 - PR AUC: 0.6384 - val_loss: 0.3563 - val_PR AUC: 0.7069\n",
      "Epoch 8/1000\n",
      "51/51 [==============================] - 11s 219ms/step - loss: 0.4062 - PR AUC: 0.6485 - val_loss: 0.3548 - val_PR AUC: 0.7127\n",
      "Epoch 9/1000\n",
      "51/51 [==============================] - 11s 204ms/step - loss: 0.3958 - PR AUC: 0.6615 - val_loss: 0.3484 - val_PR AUC: 0.7232\n",
      "Epoch 10/1000\n",
      "51/51 [==============================] - 9s 169ms/step - loss: 0.3979 - PR AUC: 0.6554 - val_loss: 0.3526 - val_PR AUC: 0.7249\n",
      "Epoch 11/1000\n",
      "51/51 [==============================] - 9s 166ms/step - loss: 0.3904 - PR AUC: 0.6665 - val_loss: 0.3466 - val_PR AUC: 0.7339\n",
      "Epoch 12/1000\n",
      "51/51 [==============================] - 8s 158ms/step - loss: 0.3881 - PR AUC: 0.6713 - val_loss: 0.3427 - val_PR AUC: 0.7371\n",
      "Epoch 13/1000\n",
      "51/51 [==============================] - 8s 160ms/step - loss: 0.3841 - PR AUC: 0.6744 - val_loss: 0.3408 - val_PR AUC: 0.7390\n",
      "Epoch 14/1000\n",
      "51/51 [==============================] - 8s 158ms/step - loss: 0.3812 - PR AUC: 0.6764 - val_loss: 0.3416 - val_PR AUC: 0.7415\n",
      "Epoch 15/1000\n",
      "51/51 [==============================] - 10s 188ms/step - loss: 0.3808 - PR AUC: 0.6787 - val_loss: 0.3386 - val_PR AUC: 0.7436\n",
      "Epoch 16/1000\n",
      "51/51 [==============================] - 8s 160ms/step - loss: 0.3782 - PR AUC: 0.6795 - val_loss: 0.3384 - val_PR AUC: 0.7431\n",
      "Epoch 17/1000\n",
      "51/51 [==============================] - 9s 175ms/step - loss: 0.3775 - PR AUC: 0.6829 - val_loss: 0.3373 - val_PR AUC: 0.7435\n",
      "Epoch 18/1000\n",
      "51/51 [==============================] - 9s 167ms/step - loss: 0.3749 - PR AUC: 0.6863 - val_loss: 0.3370 - val_PR AUC: 0.7445\n",
      "Epoch 19/1000\n",
      "51/51 [==============================] - 9s 174ms/step - loss: 0.3728 - PR AUC: 0.6910 - val_loss: 0.3364 - val_PR AUC: 0.7447\n",
      "Epoch 20/1000\n",
      "51/51 [==============================] - 10s 184ms/step - loss: 0.3731 - PR AUC: 0.6880 - val_loss: 0.3369 - val_PR AUC: 0.7449\n",
      "Epoch 21/1000\n",
      "51/51 [==============================] - 8s 158ms/step - loss: 0.3688 - PR AUC: 0.6929 - val_loss: 0.3371 - val_PR AUC: 0.7442\n",
      "Epoch 22/1000\n",
      "51/51 [==============================] - 8s 161ms/step - loss: 0.3694 - PR AUC: 0.6930 - val_loss: 0.3382 - val_PR AUC: 0.7450\n",
      "Epoch 23/1000\n",
      "51/51 [==============================] - 9s 179ms/step - loss: 0.3650 - PR AUC: 0.7002 - val_loss: 0.3377 - val_PR AUC: 0.7465\n",
      "Epoch 24/1000\n",
      "51/51 [==============================] - 9s 171ms/step - loss: 0.3661 - PR AUC: 0.6969 - val_loss: 0.3373 - val_PR AUC: 0.7450\n",
      "Epoch 25/1000\n",
      "51/51 [==============================] - 9s 171ms/step - loss: 0.3651 - PR AUC: 0.7005 - val_loss: 0.3354 - val_PR AUC: 0.7464\n",
      "Epoch 26/1000\n",
      "51/51 [==============================] - 9s 174ms/step - loss: 0.3616 - PR AUC: 0.7032 - val_loss: 0.3355 - val_PR AUC: 0.7460\n",
      "Epoch 27/1000\n",
      "51/51 [==============================] - 9s 166ms/step - loss: 0.3619 - PR AUC: 0.7015 - val_loss: 0.3381 - val_PR AUC: 0.7448\n",
      "Epoch 28/1000\n",
      "51/51 [==============================] - 8s 156ms/step - loss: 0.3573 - PR AUC: 0.7084 - val_loss: 0.3369 - val_PR AUC: 0.7460\n",
      "Epoch 29/1000\n",
      "51/51 [==============================] - 8s 156ms/step - loss: 0.3567 - PR AUC: 0.7085 - val_loss: 0.3383 - val_PR AUC: 0.7442\n",
      "Epoch 30/1000\n",
      "51/51 [==============================] - 8s 161ms/step - loss: 0.3583 - PR AUC: 0.7066 - val_loss: 0.3362 - val_PR AUC: 0.7440\n",
      "Epoch 31/1000\n",
      "51/51 [==============================] - 9s 169ms/step - loss: 0.3541 - PR AUC: 0.7156 - val_loss: 0.3370 - val_PR AUC: 0.7460\n",
      "Epoch 32/1000\n",
      "51/51 [==============================] - 9s 177ms/step - loss: 0.3558 - PR AUC: 0.7107 - val_loss: 0.3362 - val_PR AUC: 0.7467\n",
      "Epoch 33/1000\n",
      "51/51 [==============================] - 8s 155ms/step - loss: 0.3524 - PR AUC: 0.7147 - val_loss: 0.3347 - val_PR AUC: 0.7468\n",
      "Epoch 34/1000\n",
      "51/51 [==============================] - 8s 164ms/step - loss: 0.3537 - PR AUC: 0.7144 - val_loss: 0.3340 - val_PR AUC: 0.7465\n",
      "Epoch 35/1000\n",
      "51/51 [==============================] - 8s 158ms/step - loss: 0.3521 - PR AUC: 0.7161 - val_loss: 0.3374 - val_PR AUC: 0.7432\n",
      "Epoch 36/1000\n",
      "51/51 [==============================] - 8s 155ms/step - loss: 0.3518 - PR AUC: 0.7147 - val_loss: 0.3342 - val_PR AUC: 0.7463\n",
      "Epoch 37/1000\n",
      "51/51 [==============================] - 8s 159ms/step - loss: 0.3517 - PR AUC: 0.7166 - val_loss: 0.3341 - val_PR AUC: 0.7463\n",
      "Epoch 38/1000\n",
      "51/51 [==============================] - 8s 154ms/step - loss: 0.3512 - PR AUC: 0.7159 - val_loss: 0.3349 - val_PR AUC: 0.7463\n",
      "Epoch 39/1000\n",
      "51/51 [==============================] - 8s 159ms/step - loss: 0.3502 - PR AUC: 0.7183 - val_loss: 0.3345 - val_PR AUC: 0.7469\n",
      "Epoch 40/1000\n",
      "51/51 [==============================] - 8s 163ms/step - loss: 0.3476 - PR AUC: 0.7225 - val_loss: 0.3334 - val_PR AUC: 0.7474\n",
      "Epoch 41/1000\n",
      "51/51 [==============================] - 8s 160ms/step - loss: 0.3487 - PR AUC: 0.7185 - val_loss: 0.3347 - val_PR AUC: 0.7465\n",
      "Epoch 42/1000\n",
      "51/51 [==============================] - 8s 160ms/step - loss: 0.3480 - PR AUC: 0.7199 - val_loss: 0.3405 - val_PR AUC: 0.7455\n",
      "Epoch 43/1000\n",
      "51/51 [==============================] - 8s 161ms/step - loss: 0.3474 - PR AUC: 0.7230 - val_loss: 0.3350 - val_PR AUC: 0.7470\n",
      "Epoch 44/1000\n",
      "51/51 [==============================] - 8s 156ms/step - loss: 0.3476 - PR AUC: 0.7207 - val_loss: 0.3350 - val_PR AUC: 0.7457\n",
      "Epoch 45/1000\n",
      "51/51 [==============================] - 8s 160ms/step - loss: 0.3463 - PR AUC: 0.7234 - val_loss: 0.3334 - val_PR AUC: 0.7472\n",
      "Epoch 46/1000\n",
      "51/51 [==============================] - 8s 153ms/step - loss: 0.3464 - PR AUC: 0.7251 - val_loss: 0.3334 - val_PR AUC: 0.7464\n",
      "Epoch 47/1000\n",
      "51/51 [==============================] - 8s 155ms/step - loss: 0.3433 - PR AUC: 0.7290 - val_loss: 0.3353 - val_PR AUC: 0.7448\n",
      "Epoch 48/1000\n",
      "51/51 [==============================] - 8s 159ms/step - loss: 0.3471 - PR AUC: 0.7228 - val_loss: 0.3342 - val_PR AUC: 0.7472\n",
      "Epoch 49/1000\n",
      "51/51 [==============================] - 8s 161ms/step - loss: 0.3443 - PR AUC: 0.7261 - val_loss: 0.3347 - val_PR AUC: 0.7460\n",
      "Epoch 50/1000\n",
      "51/51 [==============================] - 8s 158ms/step - loss: 0.3444 - PR AUC: 0.7261 - val_loss: 0.3368 - val_PR AUC: 0.7440\n",
      "Epoch 51/1000\n",
      "51/51 [==============================] - 8s 152ms/step - loss: 0.3429 - PR AUC: 0.7279 - val_loss: 0.3364 - val_PR AUC: 0.7468\n",
      "Epoch 52/1000\n",
      "51/51 [==============================] - 8s 154ms/step - loss: 0.3425 - PR AUC: 0.7290 - val_loss: 0.3356 - val_PR AUC: 0.7473\n",
      "Epoch 53/1000\n",
      "51/51 [==============================] - 8s 158ms/step - loss: 0.3438 - PR AUC: 0.7282 - val_loss: 0.3355 - val_PR AUC: 0.7459\n",
      "Epoch 54/1000\n",
      "51/51 [==============================] - 8s 155ms/step - loss: 0.3431 - PR AUC: 0.7265 - val_loss: 0.3369 - val_PR AUC: 0.7461\n",
      "Epoch 55/1000\n",
      "51/51 [==============================] - 8s 157ms/step - loss: 0.3428 - PR AUC: 0.7267 - val_loss: 0.3361 - val_PR AUC: 0.7466\n",
      "Epoch 56/1000\n",
      "51/51 [==============================] - 9s 170ms/step - loss: 0.3408 - PR AUC: 0.7308 - val_loss: 0.3337 - val_PR AUC: 0.7456\n"
     ]
    }
   ],
   "source": [
    "early = EarlyStopping(monitor=\"val_loss\", mode=\"min\", patience=10, restore_best_weights=True)\n",
    "callback_list = [early]\n",
    "\n",
    "history = tabtransformer.fit(\n",
    "    train_dataset, \n",
    "    epochs=NUM_EPOCHS, \n",
    "    validation_data=val_dataset,\n",
    "    callbacks=callback_list\n",
    ")"
   ]
  },
  {
   "cell_type": "code",
   "execution_count": 15,
   "id": "2f62dea2-531c-4e8b-991c-37c1f5e73fbe",
   "metadata": {},
   "outputs": [],
   "source": [
    "test_preds = tabtransformer.predict(test_dataset)"
   ]
  },
  {
   "cell_type": "code",
   "execution_count": 16,
   "id": "2852b3bf-73d4-46c5-9daf-289d9190168c",
   "metadata": {},
   "outputs": [
    {
     "name": "stdout",
     "output_type": "stream",
     "text": [
      "Test ROC AUC: 0.8959\n",
      "Test PR AUC: 0.7355\n",
      "Test Accuracy: 0.8488\n"
     ]
    }
   ],
   "source": [
    "print(\"Test ROC AUC:\", np.round(roc_auc_score(test_data[LABEL], test_preds.ravel()), 4))\n",
    "print(\"Test PR AUC:\", np.round(average_precision_score(test_data[LABEL], test_preds.ravel()), 4))\n",
    "print(\"Test Accuracy:\", np.round(accuracy_score(test_data[LABEL], test_preds.ravel() > 0.5), 4))"
   ]
  }
 ],
 "metadata": {
  "kernelspec": {
   "display_name": "blog",
   "language": "python",
   "name": "blog"
  },
  "language_info": {
   "codemirror_mode": {
    "name": "ipython",
    "version": 3
   },
   "file_extension": ".py",
   "mimetype": "text/x-python",
   "name": "python",
   "nbconvert_exporter": "python",
   "pygments_lexer": "ipython3",
   "version": "3.9.4"
  }
 },
 "nbformat": 4,
 "nbformat_minor": 5
}
